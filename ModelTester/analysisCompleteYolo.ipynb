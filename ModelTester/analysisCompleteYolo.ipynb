{
 "cells": [
  {
   "cell_type": "code",
   "execution_count": 32,
   "id": "1b32a48f",
   "metadata": {},
   "outputs": [
    {
     "name": "stdout",
     "output_type": "stream",
     "text": [
      "Requirement already satisfied: tensorflow==2.15.0 in c:\\users\\angel\\miniconda3\\envs\\tf_env\\lib\\site-packages (2.15.0)\n",
      "Requirement already satisfied: keras==2.15.0 in c:\\users\\angel\\miniconda3\\envs\\tf_env\\lib\\site-packages (2.15.0)\n",
      "Requirement already satisfied: protobuf==4.25.3 in c:\\users\\angel\\miniconda3\\envs\\tf_env\\lib\\site-packages (4.25.3)\n",
      "Requirement already satisfied: tensorflow-intel==2.15.0 in c:\\users\\angel\\miniconda3\\envs\\tf_env\\lib\\site-packages (from tensorflow==2.15.0) (2.15.0)\n",
      "Requirement already satisfied: absl-py>=1.0.0 in c:\\users\\angel\\miniconda3\\envs\\tf_env\\lib\\site-packages (from tensorflow-intel==2.15.0->tensorflow==2.15.0) (2.3.1)\n",
      "Requirement already satisfied: astunparse>=1.6.0 in c:\\users\\angel\\miniconda3\\envs\\tf_env\\lib\\site-packages (from tensorflow-intel==2.15.0->tensorflow==2.15.0) (1.6.3)\n",
      "Requirement already satisfied: flatbuffers>=23.5.26 in c:\\users\\angel\\miniconda3\\envs\\tf_env\\lib\\site-packages (from tensorflow-intel==2.15.0->tensorflow==2.15.0) (25.2.10)\n",
      "Requirement already satisfied: gast!=0.5.0,!=0.5.1,!=0.5.2,>=0.2.1 in c:\\users\\angel\\miniconda3\\envs\\tf_env\\lib\\site-packages (from tensorflow-intel==2.15.0->tensorflow==2.15.0) (0.6.0)\n",
      "Requirement already satisfied: google-pasta>=0.1.1 in c:\\users\\angel\\miniconda3\\envs\\tf_env\\lib\\site-packages (from tensorflow-intel==2.15.0->tensorflow==2.15.0) (0.2.0)\n",
      "Requirement already satisfied: h5py>=2.9.0 in c:\\users\\angel\\miniconda3\\envs\\tf_env\\lib\\site-packages (from tensorflow-intel==2.15.0->tensorflow==2.15.0) (3.14.0)\n",
      "Requirement already satisfied: libclang>=13.0.0 in c:\\users\\angel\\miniconda3\\envs\\tf_env\\lib\\site-packages (from tensorflow-intel==2.15.0->tensorflow==2.15.0) (18.1.1)\n",
      "Requirement already satisfied: ml-dtypes~=0.2.0 in c:\\users\\angel\\miniconda3\\envs\\tf_env\\lib\\site-packages (from tensorflow-intel==2.15.0->tensorflow==2.15.0) (0.2.0)\n",
      "Requirement already satisfied: numpy<2.0.0,>=1.23.5 in c:\\users\\angel\\miniconda3\\envs\\tf_env\\lib\\site-packages (from tensorflow-intel==2.15.0->tensorflow==2.15.0) (1.26.4)\n",
      "Requirement already satisfied: opt-einsum>=2.3.2 in c:\\users\\angel\\miniconda3\\envs\\tf_env\\lib\\site-packages (from tensorflow-intel==2.15.0->tensorflow==2.15.0) (3.4.0)\n",
      "Requirement already satisfied: packaging in c:\\users\\angel\\miniconda3\\envs\\tf_env\\lib\\site-packages (from tensorflow-intel==2.15.0->tensorflow==2.15.0) (25.0)\n",
      "Requirement already satisfied: setuptools in c:\\users\\angel\\miniconda3\\envs\\tf_env\\lib\\site-packages (from tensorflow-intel==2.15.0->tensorflow==2.15.0) (78.1.1)\n",
      "Requirement already satisfied: six>=1.12.0 in c:\\users\\angel\\miniconda3\\envs\\tf_env\\lib\\site-packages (from tensorflow-intel==2.15.0->tensorflow==2.15.0) (1.17.0)\n",
      "Requirement already satisfied: termcolor>=1.1.0 in c:\\users\\angel\\miniconda3\\envs\\tf_env\\lib\\site-packages (from tensorflow-intel==2.15.0->tensorflow==2.15.0) (3.1.0)\n",
      "Requirement already satisfied: typing-extensions>=3.6.6 in c:\\users\\angel\\miniconda3\\envs\\tf_env\\lib\\site-packages (from tensorflow-intel==2.15.0->tensorflow==2.15.0) (4.12.2)\n",
      "Requirement already satisfied: wrapt<1.15,>=1.11.0 in c:\\users\\angel\\miniconda3\\envs\\tf_env\\lib\\site-packages (from tensorflow-intel==2.15.0->tensorflow==2.15.0) (1.14.1)\n",
      "Requirement already satisfied: tensorflow-io-gcs-filesystem>=0.23.1 in c:\\users\\angel\\miniconda3\\envs\\tf_env\\lib\\site-packages (from tensorflow-intel==2.15.0->tensorflow==2.15.0) (0.31.0)\n",
      "Requirement already satisfied: grpcio<2.0,>=1.24.3 in c:\\users\\angel\\miniconda3\\envs\\tf_env\\lib\\site-packages (from tensorflow-intel==2.15.0->tensorflow==2.15.0) (1.74.0)\n",
      "Requirement already satisfied: tensorboard<2.16,>=2.15 in c:\\users\\angel\\miniconda3\\envs\\tf_env\\lib\\site-packages (from tensorflow-intel==2.15.0->tensorflow==2.15.0) (2.15.2)\n",
      "Requirement already satisfied: tensorflow-estimator<2.16,>=2.15.0 in c:\\users\\angel\\miniconda3\\envs\\tf_env\\lib\\site-packages (from tensorflow-intel==2.15.0->tensorflow==2.15.0) (2.15.0)\n",
      "Requirement already satisfied: google-auth<3,>=1.6.3 in c:\\users\\angel\\miniconda3\\envs\\tf_env\\lib\\site-packages (from tensorboard<2.16,>=2.15->tensorflow-intel==2.15.0->tensorflow==2.15.0) (2.40.3)\n",
      "Requirement already satisfied: google-auth-oauthlib<2,>=0.5 in c:\\users\\angel\\miniconda3\\envs\\tf_env\\lib\\site-packages (from tensorboard<2.16,>=2.15->tensorflow-intel==2.15.0->tensorflow==2.15.0) (1.2.2)\n",
      "Requirement already satisfied: markdown>=2.6.8 in c:\\users\\angel\\miniconda3\\envs\\tf_env\\lib\\site-packages (from tensorboard<2.16,>=2.15->tensorflow-intel==2.15.0->tensorflow==2.15.0) (3.8.2)\n",
      "Requirement already satisfied: requests<3,>=2.21.0 in c:\\users\\angel\\miniconda3\\envs\\tf_env\\lib\\site-packages (from tensorboard<2.16,>=2.15->tensorflow-intel==2.15.0->tensorflow==2.15.0) (2.32.4)\n",
      "Requirement already satisfied: tensorboard-data-server<0.8.0,>=0.7.0 in c:\\users\\angel\\miniconda3\\envs\\tf_env\\lib\\site-packages (from tensorboard<2.16,>=2.15->tensorflow-intel==2.15.0->tensorflow==2.15.0) (0.7.2)\n",
      "Requirement already satisfied: werkzeug>=1.0.1 in c:\\users\\angel\\miniconda3\\envs\\tf_env\\lib\\site-packages (from tensorboard<2.16,>=2.15->tensorflow-intel==2.15.0->tensorflow==2.15.0) (3.1.3)\n",
      "Requirement already satisfied: cachetools<6.0,>=2.0.0 in c:\\users\\angel\\miniconda3\\envs\\tf_env\\lib\\site-packages (from google-auth<3,>=1.6.3->tensorboard<2.16,>=2.15->tensorflow-intel==2.15.0->tensorflow==2.15.0) (5.5.2)\n",
      "Requirement already satisfied: pyasn1-modules>=0.2.1 in c:\\users\\angel\\miniconda3\\envs\\tf_env\\lib\\site-packages (from google-auth<3,>=1.6.3->tensorboard<2.16,>=2.15->tensorflow-intel==2.15.0->tensorflow==2.15.0) (0.4.2)\n",
      "Requirement already satisfied: rsa<5,>=3.1.4 in c:\\users\\angel\\miniconda3\\envs\\tf_env\\lib\\site-packages (from google-auth<3,>=1.6.3->tensorboard<2.16,>=2.15->tensorflow-intel==2.15.0->tensorflow==2.15.0) (4.9.1)\n",
      "Requirement already satisfied: requests-oauthlib>=0.7.0 in c:\\users\\angel\\miniconda3\\envs\\tf_env\\lib\\site-packages (from google-auth-oauthlib<2,>=0.5->tensorboard<2.16,>=2.15->tensorflow-intel==2.15.0->tensorflow==2.15.0) (2.0.0)\n",
      "Requirement already satisfied: charset_normalizer<4,>=2 in c:\\users\\angel\\miniconda3\\envs\\tf_env\\lib\\site-packages (from requests<3,>=2.21.0->tensorboard<2.16,>=2.15->tensorflow-intel==2.15.0->tensorflow==2.15.0) (3.4.2)\n",
      "Requirement already satisfied: idna<4,>=2.5 in c:\\users\\angel\\miniconda3\\envs\\tf_env\\lib\\site-packages (from requests<3,>=2.21.0->tensorboard<2.16,>=2.15->tensorflow-intel==2.15.0->tensorflow==2.15.0) (3.7)\n",
      "Requirement already satisfied: urllib3<3,>=1.21.1 in c:\\users\\angel\\miniconda3\\envs\\tf_env\\lib\\site-packages (from requests<3,>=2.21.0->tensorboard<2.16,>=2.15->tensorflow-intel==2.15.0->tensorflow==2.15.0) (2.5.0)\n",
      "Requirement already satisfied: certifi>=2017.4.17 in c:\\users\\angel\\miniconda3\\envs\\tf_env\\lib\\site-packages (from requests<3,>=2.21.0->tensorboard<2.16,>=2.15->tensorflow-intel==2.15.0->tensorflow==2.15.0) (2025.8.3)\n",
      "Requirement already satisfied: pyasn1>=0.1.3 in c:\\users\\angel\\miniconda3\\envs\\tf_env\\lib\\site-packages (from rsa<5,>=3.1.4->google-auth<3,>=1.6.3->tensorboard<2.16,>=2.15->tensorflow-intel==2.15.0->tensorflow==2.15.0) (0.6.1)\n",
      "Requirement already satisfied: wheel<1.0,>=0.23.0 in c:\\users\\angel\\miniconda3\\envs\\tf_env\\lib\\site-packages (from astunparse>=1.6.0->tensorflow-intel==2.15.0->tensorflow==2.15.0) (0.45.1)\n",
      "Requirement already satisfied: oauthlib>=3.0.0 in c:\\users\\angel\\miniconda3\\envs\\tf_env\\lib\\site-packages (from requests-oauthlib>=0.7.0->google-auth-oauthlib<2,>=0.5->tensorboard<2.16,>=2.15->tensorflow-intel==2.15.0->tensorflow==2.15.0) (3.3.1)\n",
      "Requirement already satisfied: MarkupSafe>=2.1.1 in c:\\users\\angel\\miniconda3\\envs\\tf_env\\lib\\site-packages (from werkzeug>=1.0.1->tensorboard<2.16,>=2.15->tensorflow-intel==2.15.0->tensorflow==2.15.0) (3.0.2)\n",
      "Note: you may need to restart the kernel to use updated packages.\n",
      "Requirement already satisfied: yolov5 in c:\\users\\angel\\miniconda3\\envs\\tf_env\\lib\\site-packages (7.0.14)\n",
      "Requirement already satisfied: pandas in c:\\users\\angel\\miniconda3\\envs\\tf_env\\lib\\site-packages (2.3.1)\n",
      "Requirement already satisfied: opencv-python in c:\\users\\angel\\miniconda3\\envs\\tf_env\\lib\\site-packages (4.11.0.86)\n",
      "Requirement already satisfied: torch in c:\\users\\angel\\miniconda3\\envs\\tf_env\\lib\\site-packages (2.7.1)\n",
      "Requirement already satisfied: torchvision in c:\\users\\angel\\miniconda3\\envs\\tf_env\\lib\\site-packages (0.22.1)\n",
      "Requirement already satisfied: tqdm in c:\\users\\angel\\miniconda3\\envs\\tf_env\\lib\\site-packages (4.67.1)\n",
      "Requirement already satisfied: matplotlib in c:\\users\\angel\\miniconda3\\envs\\tf_env\\lib\\site-packages (3.10.5)\n",
      "Requirement already satisfied: Pillow in c:\\users\\angel\\miniconda3\\envs\\tf_env\\lib\\site-packages (11.3.0)\n",
      "Requirement already satisfied: gitpython>=3.1.30 in c:\\users\\angel\\miniconda3\\envs\\tf_env\\lib\\site-packages (from yolov5) (3.1.45)\n",
      "Requirement already satisfied: numpy>=1.18.5 in c:\\users\\angel\\miniconda3\\envs\\tf_env\\lib\\site-packages (from yolov5) (1.26.4)\n",
      "Requirement already satisfied: psutil in c:\\users\\angel\\miniconda3\\envs\\tf_env\\lib\\site-packages (from yolov5) (5.9.0)\n",
      "Requirement already satisfied: PyYAML>=5.3.1 in c:\\users\\angel\\miniconda3\\envs\\tf_env\\lib\\site-packages (from yolov5) (6.0.2)\n",
      "Requirement already satisfied: requests>=2.23.0 in c:\\users\\angel\\miniconda3\\envs\\tf_env\\lib\\site-packages (from yolov5) (2.32.4)\n",
      "Requirement already satisfied: scipy>=1.4.1 in c:\\users\\angel\\miniconda3\\envs\\tf_env\\lib\\site-packages (from yolov5) (1.15.3)\n",
      "Requirement already satisfied: thop>=0.1.1 in c:\\users\\angel\\miniconda3\\envs\\tf_env\\lib\\site-packages (from yolov5) (0.1.1.post2209072238)\n",
      "Requirement already satisfied: ultralytics>=8.0.100 in c:\\users\\angel\\miniconda3\\envs\\tf_env\\lib\\site-packages (from yolov5) (8.3.174)\n",
      "Requirement already satisfied: tensorboard>=2.4.1 in c:\\users\\angel\\miniconda3\\envs\\tf_env\\lib\\site-packages (from yolov5) (2.15.2)\n",
      "Requirement already satisfied: seaborn>=0.11.0 in c:\\users\\angel\\miniconda3\\envs\\tf_env\\lib\\site-packages (from yolov5) (0.13.2)\n",
      "Requirement already satisfied: setuptools>=65.5.1 in c:\\users\\angel\\miniconda3\\envs\\tf_env\\lib\\site-packages (from yolov5) (78.1.1)\n",
      "Requirement already satisfied: fire in c:\\users\\angel\\miniconda3\\envs\\tf_env\\lib\\site-packages (from yolov5) (0.7.0)\n",
      "Requirement already satisfied: boto3>=1.19.1 in c:\\users\\angel\\miniconda3\\envs\\tf_env\\lib\\site-packages (from yolov5) (1.40.3)\n",
      "Requirement already satisfied: sahi>=0.11.10 in c:\\users\\angel\\miniconda3\\envs\\tf_env\\lib\\site-packages (from yolov5) (0.11.32)\n",
      "Requirement already satisfied: huggingface-hub<0.25.0,>=0.12.0 in c:\\users\\angel\\miniconda3\\envs\\tf_env\\lib\\site-packages (from yolov5) (0.24.7)\n",
      "Requirement already satisfied: roboflow>=0.2.29 in c:\\users\\angel\\miniconda3\\envs\\tf_env\\lib\\site-packages (from yolov5) (1.2.3)\n",
      "Requirement already satisfied: filelock in c:\\users\\angel\\miniconda3\\envs\\tf_env\\lib\\site-packages (from huggingface-hub<0.25.0,>=0.12.0->yolov5) (3.18.0)\n",
      "Requirement already satisfied: fsspec>=2023.5.0 in c:\\users\\angel\\miniconda3\\envs\\tf_env\\lib\\site-packages (from huggingface-hub<0.25.0,>=0.12.0->yolov5) (2025.7.0)\n",
      "Requirement already satisfied: packaging>=20.9 in c:\\users\\angel\\miniconda3\\envs\\tf_env\\lib\\site-packages (from huggingface-hub<0.25.0,>=0.12.0->yolov5) (25.0)\n",
      "Requirement already satisfied: typing-extensions>=3.7.4.3 in c:\\users\\angel\\miniconda3\\envs\\tf_env\\lib\\site-packages (from huggingface-hub<0.25.0,>=0.12.0->yolov5) (4.12.2)\n",
      "Requirement already satisfied: python-dateutil>=2.8.2 in c:\\users\\angel\\miniconda3\\envs\\tf_env\\lib\\site-packages (from pandas) (2.9.0.post0)\n",
      "Requirement already satisfied: pytz>=2020.1 in c:\\users\\angel\\miniconda3\\envs\\tf_env\\lib\\site-packages (from pandas) (2025.2)\n",
      "Requirement already satisfied: tzdata>=2022.7 in c:\\users\\angel\\miniconda3\\envs\\tf_env\\lib\\site-packages (from pandas) (2025.2)\n",
      "Requirement already satisfied: sympy>=1.13.3 in c:\\users\\angel\\miniconda3\\envs\\tf_env\\lib\\site-packages (from torch) (1.14.0)\n",
      "Requirement already satisfied: networkx in c:\\users\\angel\\miniconda3\\envs\\tf_env\\lib\\site-packages (from torch) (3.4.2)\n",
      "Requirement already satisfied: jinja2 in c:\\users\\angel\\miniconda3\\envs\\tf_env\\lib\\site-packages (from torch) (3.1.6)\n",
      "Requirement already satisfied: colorama in c:\\users\\angel\\miniconda3\\envs\\tf_env\\lib\\site-packages (from tqdm) (0.4.6)\n",
      "Requirement already satisfied: contourpy>=1.0.1 in c:\\users\\angel\\miniconda3\\envs\\tf_env\\lib\\site-packages (from matplotlib) (1.3.2)\n",
      "Requirement already satisfied: cycler>=0.10 in c:\\users\\angel\\miniconda3\\envs\\tf_env\\lib\\site-packages (from matplotlib) (0.12.1)\n",
      "Requirement already satisfied: fonttools>=4.22.0 in c:\\users\\angel\\miniconda3\\envs\\tf_env\\lib\\site-packages (from matplotlib) (4.59.0)\n",
      "Requirement already satisfied: kiwisolver>=1.3.1 in c:\\users\\angel\\miniconda3\\envs\\tf_env\\lib\\site-packages (from matplotlib) (1.4.8)\n",
      "Requirement already satisfied: pyparsing>=2.3.1 in c:\\users\\angel\\miniconda3\\envs\\tf_env\\lib\\site-packages (from matplotlib) (3.2.3)\n",
      "Requirement already satisfied: botocore<1.41.0,>=1.40.3 in c:\\users\\angel\\miniconda3\\envs\\tf_env\\lib\\site-packages (from boto3>=1.19.1->yolov5) (1.40.3)\n",
      "Requirement already satisfied: jmespath<2.0.0,>=0.7.1 in c:\\users\\angel\\miniconda3\\envs\\tf_env\\lib\\site-packages (from boto3>=1.19.1->yolov5) (1.0.1)\n",
      "Requirement already satisfied: s3transfer<0.14.0,>=0.13.0 in c:\\users\\angel\\miniconda3\\envs\\tf_env\\lib\\site-packages (from boto3>=1.19.1->yolov5) (0.13.1)\n",
      "Requirement already satisfied: urllib3!=2.2.0,<3,>=1.25.4 in c:\\users\\angel\\miniconda3\\envs\\tf_env\\lib\\site-packages (from botocore<1.41.0,>=1.40.3->boto3>=1.19.1->yolov5) (2.5.0)\n",
      "Requirement already satisfied: six>=1.5 in c:\\users\\angel\\miniconda3\\envs\\tf_env\\lib\\site-packages (from python-dateutil>=2.8.2->pandas) (1.17.0)\n",
      "Requirement already satisfied: gitdb<5,>=4.0.1 in c:\\users\\angel\\miniconda3\\envs\\tf_env\\lib\\site-packages (from gitpython>=3.1.30->yolov5) (4.0.12)\n",
      "Requirement already satisfied: smmap<6,>=3.0.1 in c:\\users\\angel\\miniconda3\\envs\\tf_env\\lib\\site-packages (from gitdb<5,>=4.0.1->gitpython>=3.1.30->yolov5) (5.0.2)\n",
      "Requirement already satisfied: charset_normalizer<4,>=2 in c:\\users\\angel\\miniconda3\\envs\\tf_env\\lib\\site-packages (from requests>=2.23.0->yolov5) (3.4.2)\n",
      "Requirement already satisfied: idna<4,>=2.5 in c:\\users\\angel\\miniconda3\\envs\\tf_env\\lib\\site-packages (from requests>=2.23.0->yolov5) (3.7)\n",
      "Requirement already satisfied: certifi>=2017.4.17 in c:\\users\\angel\\miniconda3\\envs\\tf_env\\lib\\site-packages (from requests>=2.23.0->yolov5) (2025.8.3)\n",
      "Requirement already satisfied: opencv-python-headless==4.10.0.84 in c:\\users\\angel\\miniconda3\\envs\\tf_env\\lib\\site-packages (from roboflow>=0.2.29->yolov5) (4.10.0.84)\n",
      "Requirement already satisfied: pi-heif<2 in c:\\users\\angel\\miniconda3\\envs\\tf_env\\lib\\site-packages (from roboflow>=0.2.29->yolov5) (1.1.0)\n",
      "Requirement already satisfied: pillow-avif-plugin<2 in c:\\users\\angel\\miniconda3\\envs\\tf_env\\lib\\site-packages (from roboflow>=0.2.29->yolov5) (1.5.2)\n",
      "Requirement already satisfied: python-dotenv in c:\\users\\angel\\miniconda3\\envs\\tf_env\\lib\\site-packages (from roboflow>=0.2.29->yolov5) (1.1.1)\n",
      "Requirement already satisfied: requests-toolbelt in c:\\users\\angel\\miniconda3\\envs\\tf_env\\lib\\site-packages (from roboflow>=0.2.29->yolov5) (1.0.0)\n",
      "Requirement already satisfied: filetype in c:\\users\\angel\\miniconda3\\envs\\tf_env\\lib\\site-packages (from roboflow>=0.2.29->yolov5) (1.2.0)\n",
      "Requirement already satisfied: click in c:\\users\\angel\\miniconda3\\envs\\tf_env\\lib\\site-packages (from sahi>=0.11.10->yolov5) (8.2.1)\n",
      "Requirement already satisfied: pybboxes==0.1.6 in c:\\users\\angel\\miniconda3\\envs\\tf_env\\lib\\site-packages (from sahi>=0.11.10->yolov5) (0.1.6)\n",
      "Requirement already satisfied: shapely>=2.0.0 in c:\\users\\angel\\miniconda3\\envs\\tf_env\\lib\\site-packages (from sahi>=0.11.10->yolov5) (2.1.1)\n",
      "Requirement already satisfied: terminaltables in c:\\users\\angel\\miniconda3\\envs\\tf_env\\lib\\site-packages (from sahi>=0.11.10->yolov5) (3.1.10)\n",
      "Requirement already satisfied: mpmath<1.4,>=1.1.0 in c:\\users\\angel\\miniconda3\\envs\\tf_env\\lib\\site-packages (from sympy>=1.13.3->torch) (1.3.0)\n",
      "Requirement already satisfied: absl-py>=0.4 in c:\\users\\angel\\miniconda3\\envs\\tf_env\\lib\\site-packages (from tensorboard>=2.4.1->yolov5) (2.3.1)\n",
      "Requirement already satisfied: grpcio>=1.48.2 in c:\\users\\angel\\miniconda3\\envs\\tf_env\\lib\\site-packages (from tensorboard>=2.4.1->yolov5) (1.74.0)\n",
      "Requirement already satisfied: google-auth<3,>=1.6.3 in c:\\users\\angel\\miniconda3\\envs\\tf_env\\lib\\site-packages (from tensorboard>=2.4.1->yolov5) (2.40.3)\n",
      "Requirement already satisfied: google-auth-oauthlib<2,>=0.5 in c:\\users\\angel\\miniconda3\\envs\\tf_env\\lib\\site-packages (from tensorboard>=2.4.1->yolov5) (1.2.2)\n",
      "Requirement already satisfied: markdown>=2.6.8 in c:\\users\\angel\\miniconda3\\envs\\tf_env\\lib\\site-packages (from tensorboard>=2.4.1->yolov5) (3.8.2)\n",
      "Requirement already satisfied: protobuf!=4.24.0,>=3.19.6 in c:\\users\\angel\\miniconda3\\envs\\tf_env\\lib\\site-packages (from tensorboard>=2.4.1->yolov5) (4.25.3)\n",
      "Requirement already satisfied: tensorboard-data-server<0.8.0,>=0.7.0 in c:\\users\\angel\\miniconda3\\envs\\tf_env\\lib\\site-packages (from tensorboard>=2.4.1->yolov5) (0.7.2)\n",
      "Requirement already satisfied: werkzeug>=1.0.1 in c:\\users\\angel\\miniconda3\\envs\\tf_env\\lib\\site-packages (from tensorboard>=2.4.1->yolov5) (3.1.3)\n",
      "Requirement already satisfied: cachetools<6.0,>=2.0.0 in c:\\users\\angel\\miniconda3\\envs\\tf_env\\lib\\site-packages (from google-auth<3,>=1.6.3->tensorboard>=2.4.1->yolov5) (5.5.2)\n",
      "Requirement already satisfied: pyasn1-modules>=0.2.1 in c:\\users\\angel\\miniconda3\\envs\\tf_env\\lib\\site-packages (from google-auth<3,>=1.6.3->tensorboard>=2.4.1->yolov5) (0.4.2)\n",
      "Requirement already satisfied: rsa<5,>=3.1.4 in c:\\users\\angel\\miniconda3\\envs\\tf_env\\lib\\site-packages (from google-auth<3,>=1.6.3->tensorboard>=2.4.1->yolov5) (4.9.1)\n",
      "Requirement already satisfied: requests-oauthlib>=0.7.0 in c:\\users\\angel\\miniconda3\\envs\\tf_env\\lib\\site-packages (from google-auth-oauthlib<2,>=0.5->tensorboard>=2.4.1->yolov5) (2.0.0)\n",
      "Requirement already satisfied: pyasn1>=0.1.3 in c:\\users\\angel\\miniconda3\\envs\\tf_env\\lib\\site-packages (from rsa<5,>=3.1.4->google-auth<3,>=1.6.3->tensorboard>=2.4.1->yolov5) (0.6.1)\n",
      "Requirement already satisfied: oauthlib>=3.0.0 in c:\\users\\angel\\miniconda3\\envs\\tf_env\\lib\\site-packages (from requests-oauthlib>=0.7.0->google-auth-oauthlib<2,>=0.5->tensorboard>=2.4.1->yolov5) (3.3.1)\n",
      "Requirement already satisfied: py-cpuinfo in c:\\users\\angel\\miniconda3\\envs\\tf_env\\lib\\site-packages (from ultralytics>=8.0.100->yolov5) (9.0.0)\n",
      "Requirement already satisfied: ultralytics-thop>=2.0.0 in c:\\users\\angel\\miniconda3\\envs\\tf_env\\lib\\site-packages (from ultralytics>=8.0.100->yolov5) (2.0.15)\n",
      "Requirement already satisfied: MarkupSafe>=2.1.1 in c:\\users\\angel\\miniconda3\\envs\\tf_env\\lib\\site-packages (from werkzeug>=1.0.1->tensorboard>=2.4.1->yolov5) (3.0.2)\n",
      "Requirement already satisfied: termcolor in c:\\users\\angel\\miniconda3\\envs\\tf_env\\lib\\site-packages (from fire->yolov5) (3.1.0)\n",
      "Note: you may need to restart the kernel to use updated packages.\n"
     ]
    }
   ],
   "source": [
    "# Cell 1: Setup and Imports\n",
    "\n",
    "# --- Package Installation ---\n",
    "# Install necessary packages with specific versions for compatibility\n",
    "%pip install tensorflow==2.15.0 keras==2.15.0 protobuf==4.25.3\n",
    "%pip install yolov5 pandas opencv-python torch torchvision tqdm matplotlib Pillow"
   ]
  },
  {
   "cell_type": "code",
   "execution_count": 33,
   "id": "7220997c",
   "metadata": {},
   "outputs": [
    {
     "name": "stdout",
     "output_type": "stream",
     "text": [
      "Setup complete. All libraries are installed and imported.\n"
     ]
    }
   ],
   "source": [
    "# --- Library Imports ---\n",
    "import os\n",
    "import shutil\n",
    "import cv2\n",
    "import torch\n",
    "import numpy as np\n",
    "import pandas as pd\n",
    "import tensorflow as tf\n",
    "from PIL import Image\n",
    "from tqdm.notebook import tqdm\n",
    "from IPython.display import display, HTML\n",
    "import matplotlib.pyplot as plt # <-- LÍNEA IMPORTANTE AÑADIDA\n",
    "\n",
    "# --- Environment Configuration ---\n",
    "# Suppress verbose logs for a cleaner output\n",
    "os.environ['TF_CPP_MIN_LOG_LEVEL'] = '2'\n",
    "import warnings\n",
    "warnings.filterwarnings('ignore')\n",
    "\n",
    "print(\"Setup complete. All libraries are installed and imported.\")"
   ]
  },
  {
   "cell_type": "code",
   "execution_count": 34,
   "id": "e0774869",
   "metadata": {},
   "outputs": [
    {
     "name": "stderr",
     "output_type": "stream",
     "text": [
      "YOLOv5  v7.0-422-g2540fd4c Python-3.10.18 torch-2.7.1+cpu CPU\n",
      "\n"
     ]
    },
    {
     "name": "stdout",
     "output_type": "stream",
     "text": [
      "Loading YOLOv5 model from 'best_yolo_completeDataset.pt'...\n"
     ]
    },
    {
     "name": "stderr",
     "output_type": "stream",
     "text": [
      "Fusing layers... \n",
      "YOLOv5n summary: 157 layers, 1760518 parameters, 0 gradients, 4.1 GFLOPs\n",
      "Adding AutoShape... \n"
     ]
    },
    {
     "name": "stdout",
     "output_type": "stream",
     "text": [
      "✅ YOLOv5 model loaded successfully.\n"
     ]
    }
   ],
   "source": [
    "# Cell 2: Model Loading\n",
    "\n",
    "# --- Configuration ---\n",
    "YOLO_MODEL_PATH = 'best_yolo_completeDataset.pt'\n",
    "YOLO_REPO_PATH = 'yolov5' # Assumes yolov5 repo is cloned\n",
    "LAND_DATASET_IMAGES = 'HRSID_land_main/images/val'\n",
    "LAND_DATASET_LABELS = 'HRSID_land_main/labels/val'\n",
    "SEA_DATASET_IMAGES = 'sea_dataset/images/'\n",
    "SEA_DATASET_LABELS = 'sea_dataset/labels/'\n",
    "\n",
    "# --- Load YOLOv5 Detection Model ---\n",
    "print(f\"Loading YOLOv5 model from '{YOLO_MODEL_PATH}'...\")\n",
    "try:\n",
    "    yolo_model = torch.hub.load(YOLO_REPO_PATH, 'custom', path=YOLO_MODEL_PATH, source='local', force_reload=True)\n",
    "    if torch.cuda.is_available():\n",
    "        yolo_model.to('cuda')\n",
    "    print(\"✅ YOLOv5 model loaded successfully.\")\n",
    "except Exception as e:\n",
    "    print(f\"❌ Error loading YOLOv5 model: {e}\")\n"
   ]
  },
  {
   "cell_type": "code",
   "execution_count": 35,
   "id": "277b9130",
   "metadata": {},
   "outputs": [
    {
     "name": "stdout",
     "output_type": "stream",
     "text": [
      "Helper functions defined (with corrected evaluation method).\n"
     ]
    }
   ],
   "source": [
    "# Cell 3: Helper Functions (CORRECTED AND IMPROVED)\n",
    "\n",
    "def calculate_iou(boxA, boxB):\n",
    "    \"\"\"\n",
    "    Calculates the Intersection over Union (IoU) between two bounding boxes.\n",
    "    THIS FUNCTION IS NOW CORRECTED.\n",
    "    \"\"\"\n",
    "    # Determine the (x, y)-coordinates of the intersection rectangle\n",
    "    xA = max(boxA[0], boxB[0])\n",
    "    yA = max(boxA[1], boxB[1])\n",
    "    xB = min(boxA[2], boxB[2])\n",
    "    yB = min(boxA[3], boxB[3])\n",
    "\n",
    "    # Compute the area of intersection\n",
    "    interArea = max(0, xB - xA) * max(0, yB - yA)\n",
    "\n",
    "    # Compute the area of both the prediction and ground-truth rectangles\n",
    "    boxAArea = (boxA[2] - boxA[0]) * (boxA[3] - boxA[1])\n",
    "    boxBArea = (boxB[2] - boxB[0]) * (boxB[3] - boxB[1])\n",
    "\n",
    "    # Compute the area of the union\n",
    "    unionArea = float(boxAArea + boxBArea - interArea)\n",
    "\n",
    "    # Compute the IoU\n",
    "    iou = interArea / unionArea if unionArea > 0 else 0\n",
    "    return iou\n",
    "\n",
    "def load_yolo_labels(label_path, img_width, img_height):\n",
    "    \"\"\"Loads ground truth boxes from a YOLO .txt file and denormalizes them.\"\"\"\n",
    "    boxes = []\n",
    "    if not os.path.exists(label_path): return boxes\n",
    "    with open(label_path, 'r') as f:\n",
    "        for line in f:\n",
    "            _, x_center, y_center, width, height = map(float, line.strip().split())\n",
    "            w_abs, h_abs = width * img_width, height * img_height\n",
    "            xmin = (x_center * img_width) - (w_abs / 2)\n",
    "            ymin = (y_center * img_height) - (h_abs / 2)\n",
    "            boxes.append([xmin, ymin, xmin + w_abs, ymin + h_abs])\n",
    "    return boxes\n",
    "\n",
    "def evaluate_performance(predictions, ground_truth, iou_threshold=0.1):\n",
    "    \"\"\"\n",
    "    Evaluates detections against ground truth to calculate TP, FP, FN.\n",
    "    This logic has been slightly improved for clarity.\n",
    "    \"\"\"\n",
    "    matches = []\n",
    "    \n",
    "    # Use copies to safely remove matched items\n",
    "    gt_boxes_unmatched = list(ground_truth)\n",
    "    pred_boxes_unmatched = list(predictions)\n",
    "\n",
    "    tp = 0\n",
    "    \n",
    "    # First, find all True Positives by matching predictions to ground truth\n",
    "    for pred_box in list(pred_boxes_unmatched): # Iterate over a copy\n",
    "        best_iou = 0\n",
    "        best_gt_match = None\n",
    "        \n",
    "        for gt_box in gt_boxes_unmatched:\n",
    "            iou = calculate_iou(pred_box, gt_box)\n",
    "            if iou > best_iou:\n",
    "                best_iou = iou\n",
    "                best_gt_match = gt_box\n",
    "        \n",
    "        if best_iou > iou_threshold:\n",
    "            tp += 1\n",
    "            matches.append({'box': pred_box, 'status': 'TP'})\n",
    "            # Remove both matched boxes so they can't be used again\n",
    "            pred_boxes_unmatched.remove(pred_box)\n",
    "            gt_boxes_unmatched.remove(best_gt_match)\n",
    "\n",
    "    # Whatever is left are False Positives and False Negatives\n",
    "    fp = len(pred_boxes_unmatched)\n",
    "    for pred_box in pred_boxes_unmatched:\n",
    "        matches.append({'box': pred_box, 'status': 'FP'})\n",
    "        \n",
    "    fn = len(gt_boxes_unmatched)\n",
    "    for gt_box in gt_boxes_unmatched:\n",
    "        matches.append({'box': gt_box, 'status': 'FN'})\n",
    "\n",
    "    return {'tp': tp, 'fp': fp, 'fn': fn}, matches\n",
    "\n",
    "def draw_results_on_image(image, matches):\n",
    "    \"\"\"Draws colored bounding boxes on an image based on match status.\"\"\"\n",
    "    color_map = {\n",
    "        'TP': (0, 255, 0),   # Green\n",
    "        'FP': (0, 0, 255),   # Red\n",
    "        'FN': (255, 0, 0)    # Blue\n",
    "    }\n",
    "    for match in matches:\n",
    "        xmin, ymin, xmax, ymax = map(int, match['box'])\n",
    "        status = match['status']\n",
    "        cv2.rectangle(image, (xmin, ymin), (xmax, ymax), color_map[status], 2)\n",
    "    return image\n",
    "\n",
    "print(\"Helper functions defined (with corrected evaluation method).\")"
   ]
  },
  {
   "cell_type": "code",
   "execution_count": 36,
   "id": "9b89ef1e",
   "metadata": {},
   "outputs": [],
   "source": [
    "# Final Cell: Complete Analysis of the Validation Dataset\n",
    "\n",
    "import io\n",
    "import shutil\n",
    "import ipywidgets as widgets\n",
    "\n",
    "def run_final_analysis(image_dir, label_dir, model, output_dir):\n",
    "    \"\"\"\n",
    "    Processes all images in a dataset, saves the visual results to a folder,\n",
    "    and displays the final aggregated performance metrics.\n",
    "    \"\"\"\n",
    "    # --- STAGE 1: Setup and Directory Preparation ---\n",
    "    display(HTML(f\"<h3>Iniciando Análisis Completo del Dataset</h3>\"))\n",
    "    \n",
    "    if os.path.exists(output_dir):\n",
    "        print(f\"Limpiando directorio de resultados anterior: '{output_dir}'\")\n",
    "        shutil.rmtree(output_dir)\n",
    "    os.makedirs(output_dir)\n",
    "    print(f\"Carpeta de resultados creada en: '{output_dir}'\")\n",
    "    \n",
    "    # Check if the image directory exists\n",
    "    if not os.path.isdir(image_dir):\n",
    "        print(f\"❌ Error: No se encontró el directorio de imágenes en '{image_dir}'\")\n",
    "        return\n",
    "\n",
    "    image_files = sorted([f for f in os.listdir(image_dir) if f.lower().endswith(('.png', '.jpg', '.jpeg'))])\n",
    "    \n",
    "    # Initialize counters\n",
    "    yolo_totals = {'tp': 0, 'fp': 0, 'fn': 0}\n",
    "\n",
    "    # --- STAGE 2: Process all images ---\n",
    "    for image_name in tqdm(image_files, desc=\"Analizando todas las imágenes\"):\n",
    "        image_path = os.path.join(image_dir, image_name)\n",
    "        label_path = os.path.join(label_dir, os.path.splitext(image_name)[0] + '.txt')\n",
    "        \n",
    "        # Load data\n",
    "        original_image_bgr = cv2.imread(image_path)\n",
    "        original_image_rgb = cv2.cvtColor(original_image_bgr, cv2.COLOR_BGR2RGB)\n",
    "        h, w, _ = original_image_bgr.shape\n",
    "        \n",
    "        gt_boxes = load_yolo_labels(label_path, w, h)\n",
    "        \n",
    "        # Get YOLO predictions\n",
    "        yolo_results = model(original_image_rgb)\n",
    "        yolo_predictions = [pred[:4].tolist() for pred in yolo_results.xyxy[0].cpu().numpy()]\n",
    "\n",
    "        # Evaluate performance for this image\n",
    "        performance, matches = evaluate_performance(yolo_predictions, gt_boxes)\n",
    "        \n",
    "        # Aggregate totals\n",
    "        for key in yolo_totals:\n",
    "            yolo_totals[key] += performance[key]\n",
    "        \n",
    "        # Draw results on the image\n",
    "        image_with_boxes = draw_results_on_image(original_image_bgr.copy(), matches)\n",
    "        \n",
    "        # Save the resulting image to the output directory\n",
    "        output_image_path = os.path.join(output_dir, image_name)\n",
    "        cv2.imwrite(output_image_path, image_with_boxes)\n",
    "\n",
    "    # --- STAGE 3: Display all analytics in the notebook ---\n",
    "    \n",
    "    display(HTML(f\"<hr><h2>Resultados Finales del Análisis</h2>\"))\n",
    "    display(HTML(f\"<p>Se han procesado un total de <b>{len(image_files)}</b> imágenes. Los resultados visuales se han guardado en la carpeta <b>'{output_dir}'</b>.</p>\"))\n",
    "\n",
    "    # 1. Summary Table (TP, FP, FN)\n",
    "    df_data = {\n",
    "        'Métrica': ['Verdaderos Positivos (TP)', 'Falsos Positivos (FP)', 'Falsos Negativos (FN)'],\n",
    "        'Resultados Totales': [yolo_totals['tp'], yolo_totals['fp'], yolo_totals['fn']]\n",
    "    }\n",
    "    df_summary = pd.DataFrame(df_data).set_index('Métrica')\n",
    "    display(HTML(\"<h4>Tabla de Confusión Agregada</h4>\"))\n",
    "    display(df_summary)\n",
    "\n",
    "    # 2. Performance Metrics (Precision, Recall, F1-Score)\n",
    "    tp, fp, fn = yolo_totals['tp'], yolo_totals['fp'], yolo_totals['fn']\n",
    "    precision = tp / (tp + fp) if (tp + fp) > 0 else 0\n",
    "    recall = tp / (tp + fn) if (tp + fn) > 0 else 0\n",
    "    f1_score = 2 * (precision * recall) / (precision + recall) if (precision + recall) > 0 else 0\n",
    "    \n",
    "    display(HTML(f\"\"\"\n",
    "    <div style=\"border: 1px solid #ccc; padding: 10px; margin-top: 20px;\">\n",
    "        <h4>Métricas de Rendimiento</h4>\n",
    "        <p>\n",
    "            <b>Precisión:</b> {precision:.2%} (De todas las detecciones, este % fue correcto)<br>\n",
    "            <b>Recall (Sensibilidad):</b> {recall:.2%} (De todos los barcos reales, este % fue encontrado)<br>\n",
    "            <b>Puntuación F1:</b> {f1_score:.3f} (El equilibrio entre Precisión y Recall)\n",
    "        </p>\n",
    "    </div>\n",
    "    \"\"\"))\n",
    "\n",
    "    # 3. Results Graph\n",
    "    fig, ax = plt.subplots(figsize=(8, 5))\n",
    "    metrics = ['True Positives', 'False Positives', 'False Negatives']\n",
    "    counts = [tp, fp, fn]\n",
    "    colors = ['green', 'red', 'blue']\n",
    "    ax.bar(metrics, counts, color=colors)\n",
    "    ax.set_ylabel('Cantidad Total')\n",
    "    ax.set_title('Resumen de Resultados del Modelo')\n",
    "    for i, v in enumerate(counts):\n",
    "        ax.text(i, v + (max(counts) * 0.01), str(v), ha='center', fontweight='bold')\n",
    "    \n",
    "    # Save plot to buffer and display as a widget\n",
    "    buf = io.BytesIO()\n",
    "    fig.savefig(buf, format='png', bbox_inches='tight')\n",
    "    buf.seek(0)\n",
    "    graph_widget = ipywidgets.Image(value=buf.read(), format='png')\n",
    "    display(HTML(\"<h4>Gráfico de Resultados</h4>\"))\n",
    "    display(graph_widget)\n",
    "    buf.close()\n",
    "    plt.close(fig)\n"
   ]
  },
  {
   "cell_type": "code",
   "execution_count": 43,
   "id": "e894e6af",
   "metadata": {},
   "outputs": [],
   "source": [
    "# Cell to Find the Optimal YOLOv5 Confidence Threshold\n",
    "\n",
    "import io\n",
    "import matplotlib.pyplot as plt\n",
    "import ipywidgets as widgets\n",
    "\n",
    "def find_yolo_optimal_threshold(image_dir, label_dir, model, num_images_to_test=None):\n",
    "    \"\"\"\n",
    "    Analyzes YOLOv5 performance across a range of confidence thresholds\n",
    "    to find the optimal value.\n",
    "    \"\"\"\n",
    "    display(HTML(f\"<h3>Analizando el Umbral de Confianza Óptimo para YOLOv5</h3>\"))\n",
    "    \n",
    "    # --- STAGE 1: Setup ---\n",
    "    if not os.path.isdir(image_dir):\n",
    "        print(f\"❌ Error: No se encontró el directorio de imágenes en '{image_dir}'\")\n",
    "        return\n",
    "\n",
    "    # Get the list of images to process\n",
    "    image_files_all = sorted([f for f in os.listdir(image_dir) if f.lower().endswith(('.png', '.jpg', '.jpeg'))])\n",
    "    if num_images_to_test:\n",
    "        image_files = image_files_all[:num_images_to_test]\n",
    "    else:\n",
    "        image_files = image_files_all\n",
    "        \n",
    "    print(f\"Se analizarán {len(image_files)} imágenes para cada umbral. Esto puede tardar un poco...\")\n",
    "    \n",
    "    # --- STAGE 2: Loop through thresholds and evaluate ---\n",
    "    thresholds_to_test = np.arange(0.10, 0.95, 0.05) # Test from 10% to 90%\n",
    "    analysis_results = []\n",
    "    original_conf = model.conf # Save original confidence to restore it later\n",
    "\n",
    "    for threshold in tqdm(thresholds_to_test, desc=\"Probando Umbrales\"):\n",
    "        # Set the model's confidence threshold for this run\n",
    "        model.conf = threshold\n",
    "        \n",
    "        # Reset counters for this threshold\n",
    "        total_tp, total_fp, total_fn = 0, 0, 0\n",
    "        \n",
    "        # Inner loop to process all images with the new threshold\n",
    "        for image_name in image_files:\n",
    "            image_path = os.path.join(image_dir, image_name)\n",
    "            label_path = os.path.join(label_dir, os.path.splitext(image_name)[0] + '.txt')\n",
    "\n",
    "            # Load data\n",
    "            original_image_rgb = np.array(Image.open(image_path).convert(\"RGB\"))\n",
    "            h, w, _ = original_image_rgb.shape\n",
    "            gt_boxes = load_yolo_labels(label_path, w, h)\n",
    "            \n",
    "            # Run inference (will now use the new model.conf)\n",
    "            yolo_results = model(original_image_rgb)\n",
    "            yolo_predictions = [pred[:4].tolist() for pred in yolo_results.xyxy[0].cpu().numpy()]\n",
    "            \n",
    "            # Evaluate performance\n",
    "            performance, _ = evaluate_performance(yolo_predictions, gt_boxes)\n",
    "            total_tp += performance['tp']\n",
    "            total_fp += performance['fp']\n",
    "            total_fn += performance['fn']\n",
    "            \n",
    "        # Calculate final metrics for this threshold\n",
    "        precision = total_tp / (total_tp + total_fp) if (total_tp + total_fp) > 0 else 0\n",
    "        recall = total_tp / (total_tp + total_fn) if (total_tp + total_fn) > 0 else 0\n",
    "        f1_score = 2 * (precision * recall) / (precision + recall) if (precision + recall) > 0 else 0\n",
    "        \n",
    "        analysis_results.append({\n",
    "            \"Threshold\": f\"{threshold:.2f}\",\n",
    "            \"TP\": total_tp, \"FP\": total_fp, \"FN\": total_fn,\n",
    "            \"Precision\": precision, \"Recall\": recall, \"F1-Score\": f1_score\n",
    "        })\n",
    "\n",
    "    # --- STAGE 3: Display Results ---\n",
    "    model.conf = original_conf # Restore the model's original confidence\n",
    "    \n",
    "    df_results = pd.DataFrame(analysis_results)\n",
    "    \n",
    "    if not df_results.empty:\n",
    "        best_f1_score = df_results['F1-Score'].max()\n",
    "        styled_df = df_results.style.apply(lambda s: ['background-color: yellow' if v == best_f1_score else '' for v in s], subset=['F1-Score'])\\\n",
    "                                    .format({\"Precision\": \"{:.2%}\", \"Recall\": \"{:.2%}\", \"F1-Score\": \"{:.3f}\"})\n",
    "        \n",
    "        display(HTML(\"<h4>Rendimiento de YOLOv5 vs. Umbral de Confianza</h4>\"))\n",
    "        display(styled_df)\n",
    "\n",
    "        # Create and display the graph\n",
    "        fig, ax = plt.subplots(figsize=(12, 7))\n",
    "        ax.plot(df_results[\"Threshold\"], df_results[\"Precision\"], 'b-o', label='Precisión')\n",
    "        ax.plot(df_results[\"Threshold\"], df_results[\"Recall\"], 'g-o', label='Recall')\n",
    "        ax.plot(df_results[\"Threshold\"], df_results[\"F1-Score\"], 'r-s', label='F1-Score', linewidth=3)\n",
    "        \n",
    "        best_f1_row = df_results.loc[df_results['F1-Score'].idxmax()]\n",
    "        ax.axvline(x=best_f1_row['Threshold'], color='grey', linestyle='--', label=f'Mejor F1-Score ({best_f1_row[\"F1-Score\"]:.3f}) en Umbral {best_f1_row[\"Threshold\"]}')\n",
    "        \n",
    "        ax.set_title('Rendimiento del Modelo YOLOv5 vs. Umbral de Confianza')\n",
    "        ax.set_xlabel('Umbral de Confianza de Detección')\n",
    "        ax.set_ylabel('Puntuación')\n",
    "        ax.grid(True)\n",
    "        ax.legend()\n",
    "        \n",
    "        buf = io.BytesIO()\n",
    "        fig.savefig(buf, format='png', bbox_inches='tight')\n",
    "        buf.seek(0)\n",
    "        graph_widget = ipywidgets.Image(value=buf.read(), format='png')\n",
    "        display(graph_widget)\n",
    "        buf.close()\n",
    "        plt.close(fig)\n",
    "\n"
   ]
  },
  {
   "cell_type": "markdown",
   "id": "49389275",
   "metadata": {},
   "source": [
    "# Analysis on `land_dataset`"
   ]
  },
  {
   "cell_type": "code",
   "execution_count": 37,
   "id": "c15bd946",
   "metadata": {},
   "outputs": [
    {
     "data": {
      "text/html": [
       "<h3>Iniciando Análisis Completo del Dataset</h3>"
      ],
      "text/plain": [
       "<IPython.core.display.HTML object>"
      ]
     },
     "metadata": {},
     "output_type": "display_data"
    },
    {
     "name": "stdout",
     "output_type": "stream",
     "text": [
      "Carpeta de resultados creada en: 'landresults'\n"
     ]
    },
    {
     "data": {
      "application/vnd.jupyter.widget-view+json": {
       "model_id": "5385ce82b0f942a59a5cc1edd94f33fa",
       "version_major": 2,
       "version_minor": 0
      },
      "text/plain": [
       "Analizando todas las imágenes:   0%|          | 0/169 [00:00<?, ?it/s]"
      ]
     },
     "metadata": {},
     "output_type": "display_data"
    },
    {
     "data": {
      "text/html": [
       "<hr><h2>Resultados Finales del Análisis</h2>"
      ],
      "text/plain": [
       "<IPython.core.display.HTML object>"
      ]
     },
     "metadata": {},
     "output_type": "display_data"
    },
    {
     "data": {
      "text/html": [
       "<p>Se han procesado un total de <b>169</b> imágenes. Los resultados visuales se han guardado en la carpeta <b>'landresults'</b>.</p>"
      ],
      "text/plain": [
       "<IPython.core.display.HTML object>"
      ]
     },
     "metadata": {},
     "output_type": "display_data"
    },
    {
     "data": {
      "text/html": [
       "<h4>Tabla de Confusión Agregada</h4>"
      ],
      "text/plain": [
       "<IPython.core.display.HTML object>"
      ]
     },
     "metadata": {},
     "output_type": "display_data"
    },
    {
     "data": {
      "text/html": [
       "<div>\n",
       "<style scoped>\n",
       "    .dataframe tbody tr th:only-of-type {\n",
       "        vertical-align: middle;\n",
       "    }\n",
       "\n",
       "    .dataframe tbody tr th {\n",
       "        vertical-align: top;\n",
       "    }\n",
       "\n",
       "    .dataframe thead th {\n",
       "        text-align: right;\n",
       "    }\n",
       "</style>\n",
       "<table border=\"1\" class=\"dataframe\">\n",
       "  <thead>\n",
       "    <tr style=\"text-align: right;\">\n",
       "      <th></th>\n",
       "      <th>Resultados Totales</th>\n",
       "    </tr>\n",
       "    <tr>\n",
       "      <th>Métrica</th>\n",
       "      <th></th>\n",
       "    </tr>\n",
       "  </thead>\n",
       "  <tbody>\n",
       "    <tr>\n",
       "      <th>Verdaderos Positivos (TP)</th>\n",
       "      <td>1048</td>\n",
       "    </tr>\n",
       "    <tr>\n",
       "      <th>Falsos Positivos (FP)</th>\n",
       "      <td>291</td>\n",
       "    </tr>\n",
       "    <tr>\n",
       "      <th>Falsos Negativos (FN)</th>\n",
       "      <td>181</td>\n",
       "    </tr>\n",
       "  </tbody>\n",
       "</table>\n",
       "</div>"
      ],
      "text/plain": [
       "                           Resultados Totales\n",
       "Métrica                                      \n",
       "Verdaderos Positivos (TP)                1048\n",
       "Falsos Positivos (FP)                     291\n",
       "Falsos Negativos (FN)                     181"
      ]
     },
     "metadata": {},
     "output_type": "display_data"
    },
    {
     "data": {
      "text/html": [
       "\n",
       "    <div style=\"border: 1px solid #ccc; padding: 10px; margin-top: 20px;\">\n",
       "        <h4>Métricas de Rendimiento</h4>\n",
       "        <p>\n",
       "            <b>Precisión:</b> 78.27% (De todas las detecciones, este % fue correcto)<br>\n",
       "            <b>Recall (Sensibilidad):</b> 85.27% (De todos los barcos reales, este % fue encontrado)<br>\n",
       "            <b>Puntuación F1:</b> 0.816 (El equilibrio entre Precisión y Recall)\n",
       "        </p>\n",
       "    </div>\n",
       "    "
      ],
      "text/plain": [
       "<IPython.core.display.HTML object>"
      ]
     },
     "metadata": {},
     "output_type": "display_data"
    },
    {
     "data": {
      "text/html": [
       "<h4>Gráfico de Resultados</h4>"
      ],
      "text/plain": [
       "<IPython.core.display.HTML object>"
      ]
     },
     "metadata": {},
     "output_type": "display_data"
    },
    {
     "data": {
      "application/vnd.jupyter.widget-view+json": {
       "model_id": "1b361ceb699e4dacabd8796b6e96a458",
       "version_major": 2,
       "version_minor": 0
      },
      "text/plain": [
       "Image(value=b'\\x89PNG\\r\\n\\x1a\\n\\x00\\x00\\x00\\rIHDR\\x00\\x00\\x02\\xc4\\x00\\x00\\x01\\xc4\\x08\\x06\\x00\\x00\\x00>\\xbd<\\x1…"
      ]
     },
     "metadata": {},
     "output_type": "display_data"
    }
   ],
   "source": [
    "# --- Run the analysis function using the paths defined in Cell 2 ---\n",
    "# (Asegúrate de que las variables LAND_DATASET_IMAGES y LAND_DATASET_LABELS existen)\n",
    "if 'LAND_DATASET_IMAGES' in locals() and 'LAND_DATASET_LABELS' in locals():\n",
    "    run_final_analysis(\n",
    "        image_dir=LAND_DATASET_IMAGES,\n",
    "        label_dir=LAND_DATASET_LABELS,\n",
    "        model=yolo_model,\n",
    "        output_dir = 'landresults'\n",
    "    )\n",
    "else:\n",
    "    print(\"❌ Error: Las variables 'LAND_DATASET_IMAGES' y 'LAND_DATASET_LABELS' no están definidas.\")\n",
    "    print(\"Por favor, ejecuta la Celda 2 para definirlas antes de ejecutar esta celda.\")"
   ]
  },
  {
   "cell_type": "code",
   "execution_count": 44,
   "id": "8105cbc8",
   "metadata": {},
   "outputs": [
    {
     "data": {
      "text/html": [
       "<h3>Analizando el Umbral de Confianza Óptimo para YOLOv5</h3>"
      ],
      "text/plain": [
       "<IPython.core.display.HTML object>"
      ]
     },
     "metadata": {},
     "output_type": "display_data"
    },
    {
     "name": "stdout",
     "output_type": "stream",
     "text": [
      "Se analizarán 100 imágenes para cada umbral. Esto puede tardar un poco...\n"
     ]
    },
    {
     "data": {
      "application/vnd.jupyter.widget-view+json": {
       "model_id": "7a2f76729ca64ae2944e21609d1dae22",
       "version_major": 2,
       "version_minor": 0
      },
      "text/plain": [
       "Probando Umbrales:   0%|          | 0/17 [00:00<?, ?it/s]"
      ]
     },
     "metadata": {},
     "output_type": "display_data"
    },
    {
     "data": {
      "text/html": [
       "<h4>Rendimiento de YOLOv5 vs. Umbral de Confianza</h4>"
      ],
      "text/plain": [
       "<IPython.core.display.HTML object>"
      ]
     },
     "metadata": {},
     "output_type": "display_data"
    },
    {
     "data": {
      "text/html": [
       "<style type=\"text/css\">\n",
       "#T_58a63_row6_col6 {\n",
       "  background-color: yellow;\n",
       "}\n",
       "</style>\n",
       "<table id=\"T_58a63\">\n",
       "  <thead>\n",
       "    <tr>\n",
       "      <th class=\"blank level0\" >&nbsp;</th>\n",
       "      <th id=\"T_58a63_level0_col0\" class=\"col_heading level0 col0\" >Threshold</th>\n",
       "      <th id=\"T_58a63_level0_col1\" class=\"col_heading level0 col1\" >TP</th>\n",
       "      <th id=\"T_58a63_level0_col2\" class=\"col_heading level0 col2\" >FP</th>\n",
       "      <th id=\"T_58a63_level0_col3\" class=\"col_heading level0 col3\" >FN</th>\n",
       "      <th id=\"T_58a63_level0_col4\" class=\"col_heading level0 col4\" >Precision</th>\n",
       "      <th id=\"T_58a63_level0_col5\" class=\"col_heading level0 col5\" >Recall</th>\n",
       "      <th id=\"T_58a63_level0_col6\" class=\"col_heading level0 col6\" >F1-Score</th>\n",
       "    </tr>\n",
       "  </thead>\n",
       "  <tbody>\n",
       "    <tr>\n",
       "      <th id=\"T_58a63_level0_row0\" class=\"row_heading level0 row0\" >0</th>\n",
       "      <td id=\"T_58a63_row0_col0\" class=\"data row0 col0\" >0.10</td>\n",
       "      <td id=\"T_58a63_row0_col1\" class=\"data row0 col1\" >397</td>\n",
       "      <td id=\"T_58a63_row0_col2\" class=\"data row0 col2\" >234</td>\n",
       "      <td id=\"T_58a63_row0_col3\" class=\"data row0 col3\" >36</td>\n",
       "      <td id=\"T_58a63_row0_col4\" class=\"data row0 col4\" >62.92%</td>\n",
       "      <td id=\"T_58a63_row0_col5\" class=\"data row0 col5\" >91.69%</td>\n",
       "      <td id=\"T_58a63_row0_col6\" class=\"data row0 col6\" >0.746</td>\n",
       "    </tr>\n",
       "    <tr>\n",
       "      <th id=\"T_58a63_level0_row1\" class=\"row_heading level0 row1\" >1</th>\n",
       "      <td id=\"T_58a63_row1_col0\" class=\"data row1 col0\" >0.15</td>\n",
       "      <td id=\"T_58a63_row1_col1\" class=\"data row1 col1\" >391</td>\n",
       "      <td id=\"T_58a63_row1_col2\" class=\"data row1 col2\" >163</td>\n",
       "      <td id=\"T_58a63_row1_col3\" class=\"data row1 col3\" >42</td>\n",
       "      <td id=\"T_58a63_row1_col4\" class=\"data row1 col4\" >70.58%</td>\n",
       "      <td id=\"T_58a63_row1_col5\" class=\"data row1 col5\" >90.30%</td>\n",
       "      <td id=\"T_58a63_row1_col6\" class=\"data row1 col6\" >0.792</td>\n",
       "    </tr>\n",
       "    <tr>\n",
       "      <th id=\"T_58a63_level0_row2\" class=\"row_heading level0 row2\" >2</th>\n",
       "      <td id=\"T_58a63_row2_col0\" class=\"data row2 col0\" >0.20</td>\n",
       "      <td id=\"T_58a63_row2_col1\" class=\"data row2 col1\" >382</td>\n",
       "      <td id=\"T_58a63_row2_col2\" class=\"data row2 col2\" >126</td>\n",
       "      <td id=\"T_58a63_row2_col3\" class=\"data row2 col3\" >51</td>\n",
       "      <td id=\"T_58a63_row2_col4\" class=\"data row2 col4\" >75.20%</td>\n",
       "      <td id=\"T_58a63_row2_col5\" class=\"data row2 col5\" >88.22%</td>\n",
       "      <td id=\"T_58a63_row2_col6\" class=\"data row2 col6\" >0.812</td>\n",
       "    </tr>\n",
       "    <tr>\n",
       "      <th id=\"T_58a63_level0_row3\" class=\"row_heading level0 row3\" >3</th>\n",
       "      <td id=\"T_58a63_row3_col0\" class=\"data row3 col0\" >0.25</td>\n",
       "      <td id=\"T_58a63_row3_col1\" class=\"data row3 col1\" >371</td>\n",
       "      <td id=\"T_58a63_row3_col2\" class=\"data row3 col2\" >101</td>\n",
       "      <td id=\"T_58a63_row3_col3\" class=\"data row3 col3\" >62</td>\n",
       "      <td id=\"T_58a63_row3_col4\" class=\"data row3 col4\" >78.60%</td>\n",
       "      <td id=\"T_58a63_row3_col5\" class=\"data row3 col5\" >85.68%</td>\n",
       "      <td id=\"T_58a63_row3_col6\" class=\"data row3 col6\" >0.820</td>\n",
       "    </tr>\n",
       "    <tr>\n",
       "      <th id=\"T_58a63_level0_row4\" class=\"row_heading level0 row4\" >4</th>\n",
       "      <td id=\"T_58a63_row4_col0\" class=\"data row4 col0\" >0.30</td>\n",
       "      <td id=\"T_58a63_row4_col1\" class=\"data row4 col1\" >361</td>\n",
       "      <td id=\"T_58a63_row4_col2\" class=\"data row4 col2\" >76</td>\n",
       "      <td id=\"T_58a63_row4_col3\" class=\"data row4 col3\" >72</td>\n",
       "      <td id=\"T_58a63_row4_col4\" class=\"data row4 col4\" >82.61%</td>\n",
       "      <td id=\"T_58a63_row4_col5\" class=\"data row4 col5\" >83.37%</td>\n",
       "      <td id=\"T_58a63_row4_col6\" class=\"data row4 col6\" >0.830</td>\n",
       "    </tr>\n",
       "    <tr>\n",
       "      <th id=\"T_58a63_level0_row5\" class=\"row_heading level0 row5\" >5</th>\n",
       "      <td id=\"T_58a63_row5_col0\" class=\"data row5 col0\" >0.35</td>\n",
       "      <td id=\"T_58a63_row5_col1\" class=\"data row5 col1\" >354</td>\n",
       "      <td id=\"T_58a63_row5_col2\" class=\"data row5 col2\" >60</td>\n",
       "      <td id=\"T_58a63_row5_col3\" class=\"data row5 col3\" >79</td>\n",
       "      <td id=\"T_58a63_row5_col4\" class=\"data row5 col4\" >85.51%</td>\n",
       "      <td id=\"T_58a63_row5_col5\" class=\"data row5 col5\" >81.76%</td>\n",
       "      <td id=\"T_58a63_row5_col6\" class=\"data row5 col6\" >0.836</td>\n",
       "    </tr>\n",
       "    <tr>\n",
       "      <th id=\"T_58a63_level0_row6\" class=\"row_heading level0 row6\" >6</th>\n",
       "      <td id=\"T_58a63_row6_col0\" class=\"data row6 col0\" >0.40</td>\n",
       "      <td id=\"T_58a63_row6_col1\" class=\"data row6 col1\" >346</td>\n",
       "      <td id=\"T_58a63_row6_col2\" class=\"data row6 col2\" >45</td>\n",
       "      <td id=\"T_58a63_row6_col3\" class=\"data row6 col3\" >87</td>\n",
       "      <td id=\"T_58a63_row6_col4\" class=\"data row6 col4\" >88.49%</td>\n",
       "      <td id=\"T_58a63_row6_col5\" class=\"data row6 col5\" >79.91%</td>\n",
       "      <td id=\"T_58a63_row6_col6\" class=\"data row6 col6\" >0.840</td>\n",
       "    </tr>\n",
       "    <tr>\n",
       "      <th id=\"T_58a63_level0_row7\" class=\"row_heading level0 row7\" >7</th>\n",
       "      <td id=\"T_58a63_row7_col0\" class=\"data row7 col0\" >0.45</td>\n",
       "      <td id=\"T_58a63_row7_col1\" class=\"data row7 col1\" >335</td>\n",
       "      <td id=\"T_58a63_row7_col2\" class=\"data row7 col2\" >35</td>\n",
       "      <td id=\"T_58a63_row7_col3\" class=\"data row7 col3\" >98</td>\n",
       "      <td id=\"T_58a63_row7_col4\" class=\"data row7 col4\" >90.54%</td>\n",
       "      <td id=\"T_58a63_row7_col5\" class=\"data row7 col5\" >77.37%</td>\n",
       "      <td id=\"T_58a63_row7_col6\" class=\"data row7 col6\" >0.834</td>\n",
       "    </tr>\n",
       "    <tr>\n",
       "      <th id=\"T_58a63_level0_row8\" class=\"row_heading level0 row8\" >8</th>\n",
       "      <td id=\"T_58a63_row8_col0\" class=\"data row8 col0\" >0.50</td>\n",
       "      <td id=\"T_58a63_row8_col1\" class=\"data row8 col1\" >327</td>\n",
       "      <td id=\"T_58a63_row8_col2\" class=\"data row8 col2\" >25</td>\n",
       "      <td id=\"T_58a63_row8_col3\" class=\"data row8 col3\" >106</td>\n",
       "      <td id=\"T_58a63_row8_col4\" class=\"data row8 col4\" >92.90%</td>\n",
       "      <td id=\"T_58a63_row8_col5\" class=\"data row8 col5\" >75.52%</td>\n",
       "      <td id=\"T_58a63_row8_col6\" class=\"data row8 col6\" >0.833</td>\n",
       "    </tr>\n",
       "    <tr>\n",
       "      <th id=\"T_58a63_level0_row9\" class=\"row_heading level0 row9\" >9</th>\n",
       "      <td id=\"T_58a63_row9_col0\" class=\"data row9 col0\" >0.55</td>\n",
       "      <td id=\"T_58a63_row9_col1\" class=\"data row9 col1\" >322</td>\n",
       "      <td id=\"T_58a63_row9_col2\" class=\"data row9 col2\" >21</td>\n",
       "      <td id=\"T_58a63_row9_col3\" class=\"data row9 col3\" >111</td>\n",
       "      <td id=\"T_58a63_row9_col4\" class=\"data row9 col4\" >93.88%</td>\n",
       "      <td id=\"T_58a63_row9_col5\" class=\"data row9 col5\" >74.36%</td>\n",
       "      <td id=\"T_58a63_row9_col6\" class=\"data row9 col6\" >0.830</td>\n",
       "    </tr>\n",
       "    <tr>\n",
       "      <th id=\"T_58a63_level0_row10\" class=\"row_heading level0 row10\" >10</th>\n",
       "      <td id=\"T_58a63_row10_col0\" class=\"data row10 col0\" >0.60</td>\n",
       "      <td id=\"T_58a63_row10_col1\" class=\"data row10 col1\" >313</td>\n",
       "      <td id=\"T_58a63_row10_col2\" class=\"data row10 col2\" >18</td>\n",
       "      <td id=\"T_58a63_row10_col3\" class=\"data row10 col3\" >120</td>\n",
       "      <td id=\"T_58a63_row10_col4\" class=\"data row10 col4\" >94.56%</td>\n",
       "      <td id=\"T_58a63_row10_col5\" class=\"data row10 col5\" >72.29%</td>\n",
       "      <td id=\"T_58a63_row10_col6\" class=\"data row10 col6\" >0.819</td>\n",
       "    </tr>\n",
       "    <tr>\n",
       "      <th id=\"T_58a63_level0_row11\" class=\"row_heading level0 row11\" >11</th>\n",
       "      <td id=\"T_58a63_row11_col0\" class=\"data row11 col0\" >0.65</td>\n",
       "      <td id=\"T_58a63_row11_col1\" class=\"data row11 col1\" >304</td>\n",
       "      <td id=\"T_58a63_row11_col2\" class=\"data row11 col2\" >11</td>\n",
       "      <td id=\"T_58a63_row11_col3\" class=\"data row11 col3\" >129</td>\n",
       "      <td id=\"T_58a63_row11_col4\" class=\"data row11 col4\" >96.51%</td>\n",
       "      <td id=\"T_58a63_row11_col5\" class=\"data row11 col5\" >70.21%</td>\n",
       "      <td id=\"T_58a63_row11_col6\" class=\"data row11 col6\" >0.813</td>\n",
       "    </tr>\n",
       "    <tr>\n",
       "      <th id=\"T_58a63_level0_row12\" class=\"row_heading level0 row12\" >12</th>\n",
       "      <td id=\"T_58a63_row12_col0\" class=\"data row12 col0\" >0.70</td>\n",
       "      <td id=\"T_58a63_row12_col1\" class=\"data row12 col1\" >285</td>\n",
       "      <td id=\"T_58a63_row12_col2\" class=\"data row12 col2\" >9</td>\n",
       "      <td id=\"T_58a63_row12_col3\" class=\"data row12 col3\" >148</td>\n",
       "      <td id=\"T_58a63_row12_col4\" class=\"data row12 col4\" >96.94%</td>\n",
       "      <td id=\"T_58a63_row12_col5\" class=\"data row12 col5\" >65.82%</td>\n",
       "      <td id=\"T_58a63_row12_col6\" class=\"data row12 col6\" >0.784</td>\n",
       "    </tr>\n",
       "    <tr>\n",
       "      <th id=\"T_58a63_level0_row13\" class=\"row_heading level0 row13\" >13</th>\n",
       "      <td id=\"T_58a63_row13_col0\" class=\"data row13 col0\" >0.75</td>\n",
       "      <td id=\"T_58a63_row13_col1\" class=\"data row13 col1\" >260</td>\n",
       "      <td id=\"T_58a63_row13_col2\" class=\"data row13 col2\" >7</td>\n",
       "      <td id=\"T_58a63_row13_col3\" class=\"data row13 col3\" >173</td>\n",
       "      <td id=\"T_58a63_row13_col4\" class=\"data row13 col4\" >97.38%</td>\n",
       "      <td id=\"T_58a63_row13_col5\" class=\"data row13 col5\" >60.05%</td>\n",
       "      <td id=\"T_58a63_row13_col6\" class=\"data row13 col6\" >0.743</td>\n",
       "    </tr>\n",
       "    <tr>\n",
       "      <th id=\"T_58a63_level0_row14\" class=\"row_heading level0 row14\" >14</th>\n",
       "      <td id=\"T_58a63_row14_col0\" class=\"data row14 col0\" >0.80</td>\n",
       "      <td id=\"T_58a63_row14_col1\" class=\"data row14 col1\" >242</td>\n",
       "      <td id=\"T_58a63_row14_col2\" class=\"data row14 col2\" >5</td>\n",
       "      <td id=\"T_58a63_row14_col3\" class=\"data row14 col3\" >191</td>\n",
       "      <td id=\"T_58a63_row14_col4\" class=\"data row14 col4\" >97.98%</td>\n",
       "      <td id=\"T_58a63_row14_col5\" class=\"data row14 col5\" >55.89%</td>\n",
       "      <td id=\"T_58a63_row14_col6\" class=\"data row14 col6\" >0.712</td>\n",
       "    </tr>\n",
       "    <tr>\n",
       "      <th id=\"T_58a63_level0_row15\" class=\"row_heading level0 row15\" >15</th>\n",
       "      <td id=\"T_58a63_row15_col0\" class=\"data row15 col0\" >0.85</td>\n",
       "      <td id=\"T_58a63_row15_col1\" class=\"data row15 col1\" >205</td>\n",
       "      <td id=\"T_58a63_row15_col2\" class=\"data row15 col2\" >3</td>\n",
       "      <td id=\"T_58a63_row15_col3\" class=\"data row15 col3\" >228</td>\n",
       "      <td id=\"T_58a63_row15_col4\" class=\"data row15 col4\" >98.56%</td>\n",
       "      <td id=\"T_58a63_row15_col5\" class=\"data row15 col5\" >47.34%</td>\n",
       "      <td id=\"T_58a63_row15_col6\" class=\"data row15 col6\" >0.640</td>\n",
       "    </tr>\n",
       "    <tr>\n",
       "      <th id=\"T_58a63_level0_row16\" class=\"row_heading level0 row16\" >16</th>\n",
       "      <td id=\"T_58a63_row16_col0\" class=\"data row16 col0\" >0.90</td>\n",
       "      <td id=\"T_58a63_row16_col1\" class=\"data row16 col1\" >149</td>\n",
       "      <td id=\"T_58a63_row16_col2\" class=\"data row16 col2\" >2</td>\n",
       "      <td id=\"T_58a63_row16_col3\" class=\"data row16 col3\" >284</td>\n",
       "      <td id=\"T_58a63_row16_col4\" class=\"data row16 col4\" >98.68%</td>\n",
       "      <td id=\"T_58a63_row16_col5\" class=\"data row16 col5\" >34.41%</td>\n",
       "      <td id=\"T_58a63_row16_col6\" class=\"data row16 col6\" >0.510</td>\n",
       "    </tr>\n",
       "  </tbody>\n",
       "</table>\n"
      ],
      "text/plain": [
       "<pandas.io.formats.style.Styler at 0x1c9afb8d450>"
      ]
     },
     "metadata": {},
     "output_type": "display_data"
    },
    {
     "data": {
      "application/vnd.jupyter.widget-view+json": {
       "model_id": "9e3b36315e294bf58f4ff1831ffefb0c",
       "version_major": 2,
       "version_minor": 0
      },
      "text/plain": [
       "Image(value=b'\\x89PNG\\r\\n\\x1a\\n\\x00\\x00\\x00\\rIHDR\\x00\\x00\\x03\\xec\\x00\\x00\\x02r\\x08\\x06\\x00\\x00\\x00^\\xc2J\\x0f\\x…"
      ]
     },
     "metadata": {},
     "output_type": "display_data"
    }
   ],
   "source": [
    "# --- Run the analysis function using the paths defined in Cell 2 ---\n",
    "# (Asegúrate de que las variables LAND_DATASET_IMAGES y LAND_DATASET_LABELS existen)\n",
    "if 'LAND_DATASET_IMAGES' in locals() and 'LAND_DATASET_LABELS' in locals():\n",
    "    # Puedes limitar el número de imágenes para una prueba más rápida,\n",
    "    # o poner None para analizar todo el dataset.\n",
    "    find_yolo_optimal_threshold(\n",
    "        image_dir=LAND_DATASET_IMAGES,\n",
    "        label_dir=LAND_DATASET_LABELS,\n",
    "        model=yolo_model,\n",
    "        num_images_to_test=100 # Analizar 100 imágenes para un resultado rápido y representativo\n",
    "    )\n",
    "else:\n",
    "    print(\"❌ Error: Las variables 'LAND_DATASET_IMAGES' y 'LAND_DATASET_LABELS' no están definidas.\")\n",
    "    print(\"Por favor, ejecuta la Celda 2 para definirlas antes de ejecutar esta celda.\")"
   ]
  },
  {
   "cell_type": "markdown",
   "id": "4e3ae4ed",
   "metadata": {},
   "source": [
    "# Analysis in \"sea_dataset\""
   ]
  },
  {
   "cell_type": "code",
   "execution_count": 41,
   "id": "0cc60c55",
   "metadata": {},
   "outputs": [
    {
     "data": {
      "text/html": [
       "<h3>Iniciando Análisis Completo del Dataset</h3>"
      ],
      "text/plain": [
       "<IPython.core.display.HTML object>"
      ]
     },
     "metadata": {},
     "output_type": "display_data"
    },
    {
     "name": "stdout",
     "output_type": "stream",
     "text": [
      "Carpeta de resultados creada en: 'searesults'\n"
     ]
    },
    {
     "data": {
      "application/vnd.jupyter.widget-view+json": {
       "model_id": "b620a32703154b1bab31a57e0054ee71",
       "version_major": 2,
       "version_minor": 0
      },
      "text/plain": [
       "Analizando todas las imágenes:   0%|          | 0/246 [00:00<?, ?it/s]"
      ]
     },
     "metadata": {},
     "output_type": "display_data"
    },
    {
     "data": {
      "text/html": [
       "<hr><h2>Resultados Finales del Análisis</h2>"
      ],
      "text/plain": [
       "<IPython.core.display.HTML object>"
      ]
     },
     "metadata": {},
     "output_type": "display_data"
    },
    {
     "data": {
      "text/html": [
       "<p>Se han procesado un total de <b>246</b> imágenes. Los resultados visuales se han guardado en la carpeta <b>'searesults'</b>.</p>"
      ],
      "text/plain": [
       "<IPython.core.display.HTML object>"
      ]
     },
     "metadata": {},
     "output_type": "display_data"
    },
    {
     "data": {
      "text/html": [
       "<h4>Tabla de Confusión Agregada</h4>"
      ],
      "text/plain": [
       "<IPython.core.display.HTML object>"
      ]
     },
     "metadata": {},
     "output_type": "display_data"
    },
    {
     "data": {
      "text/html": [
       "<div>\n",
       "<style scoped>\n",
       "    .dataframe tbody tr th:only-of-type {\n",
       "        vertical-align: middle;\n",
       "    }\n",
       "\n",
       "    .dataframe tbody tr th {\n",
       "        vertical-align: top;\n",
       "    }\n",
       "\n",
       "    .dataframe thead th {\n",
       "        text-align: right;\n",
       "    }\n",
       "</style>\n",
       "<table border=\"1\" class=\"dataframe\">\n",
       "  <thead>\n",
       "    <tr style=\"text-align: right;\">\n",
       "      <th></th>\n",
       "      <th>Resultados Totales</th>\n",
       "    </tr>\n",
       "    <tr>\n",
       "      <th>Métrica</th>\n",
       "      <th></th>\n",
       "    </tr>\n",
       "  </thead>\n",
       "  <tbody>\n",
       "    <tr>\n",
       "      <th>Verdaderos Positivos (TP)</th>\n",
       "      <td>333</td>\n",
       "    </tr>\n",
       "    <tr>\n",
       "      <th>Falsos Positivos (FP)</th>\n",
       "      <td>9</td>\n",
       "    </tr>\n",
       "    <tr>\n",
       "      <th>Falsos Negativos (FN)</th>\n",
       "      <td>1</td>\n",
       "    </tr>\n",
       "  </tbody>\n",
       "</table>\n",
       "</div>"
      ],
      "text/plain": [
       "                           Resultados Totales\n",
       "Métrica                                      \n",
       "Verdaderos Positivos (TP)                 333\n",
       "Falsos Positivos (FP)                       9\n",
       "Falsos Negativos (FN)                       1"
      ]
     },
     "metadata": {},
     "output_type": "display_data"
    },
    {
     "data": {
      "text/html": [
       "\n",
       "    <div style=\"border: 1px solid #ccc; padding: 10px; margin-top: 20px;\">\n",
       "        <h4>Métricas de Rendimiento</h4>\n",
       "        <p>\n",
       "            <b>Precisión:</b> 97.37% (De todas las detecciones, este % fue correcto)<br>\n",
       "            <b>Recall (Sensibilidad):</b> 99.70% (De todos los barcos reales, este % fue encontrado)<br>\n",
       "            <b>Puntuación F1:</b> 0.985 (El equilibrio entre Precisión y Recall)\n",
       "        </p>\n",
       "    </div>\n",
       "    "
      ],
      "text/plain": [
       "<IPython.core.display.HTML object>"
      ]
     },
     "metadata": {},
     "output_type": "display_data"
    },
    {
     "data": {
      "text/html": [
       "<h4>Gráfico de Resultados</h4>"
      ],
      "text/plain": [
       "<IPython.core.display.HTML object>"
      ]
     },
     "metadata": {},
     "output_type": "display_data"
    },
    {
     "data": {
      "application/vnd.jupyter.widget-view+json": {
       "model_id": "a206d2a1664d47a1a82d41f439a0efce",
       "version_major": 2,
       "version_minor": 0
      },
      "text/plain": [
       "Image(value=b'\\x89PNG\\r\\n\\x1a\\n\\x00\\x00\\x00\\rIHDR\\x00\\x00\\x02\\xbb\\x00\\x00\\x01\\xc4\\x08\\x06\\x00\\x00\\x009\\xff\\xe2…"
      ]
     },
     "metadata": {},
     "output_type": "display_data"
    }
   ],
   "source": [
    "# --- Run the analysis function using the paths defined in Cell 2 ---\n",
    "# (Asegúrate de que las variables LAND_DATASET_IMAGES y LAND_DATASET_LABELS existen)\n",
    "if 'LAND_DATASET_IMAGES' in locals() and 'LAND_DATASET_LABELS' in locals():\n",
    "    run_final_analysis(\n",
    "        image_dir=SEA_DATASET_IMAGES,\n",
    "        label_dir=SEA_DATASET_LABELS,\n",
    "        model=yolo_model,\n",
    "        output_dir = 'searesults'\n",
    "    )\n",
    "else:\n",
    "    print(\"❌ Error: Las variables 'LAND_DATASET_IMAGES' y 'LAND_DATASET_LABELS' no están definidas.\")\n",
    "    print(\"Por favor, ejecuta la Celda 2 para definirlas antes de ejecutar esta celda.\")"
   ]
  }
 ],
 "metadata": {
  "kernelspec": {
   "display_name": "tf_env",
   "language": "python",
   "name": "python3"
  },
  "language_info": {
   "codemirror_mode": {
    "name": "ipython",
    "version": 3
   },
   "file_extension": ".py",
   "mimetype": "text/x-python",
   "name": "python",
   "nbconvert_exporter": "python",
   "pygments_lexer": "ipython3",
   "version": "3.10.18"
  }
 },
 "nbformat": 4,
 "nbformat_minor": 5
}
